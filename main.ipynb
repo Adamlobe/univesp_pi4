{
 "cells": [
  {
   "cell_type": "code",
   "execution_count": null,
   "id": "a997453e",
   "metadata": {},
   "outputs": [],
   "source": [
    "#%%\n",
    "import pandas as pd\n",
    "import numpy as np\n",
    "from sklearn.linear_model import LinearRegression\n",
    "from sklearn.model_selection import train_test_split\n",
    "from sklearn.metrics import mean_squared_error, r2_score, mean_absolute_error\n"
   ]
  },
  {
   "cell_type": "code",
   "execution_count": null,
   "id": "ab7d9cad",
   "metadata": {},
   "outputs": [],
   "source": [
    "df = pd.read_csv('base/INMET_SE_SP_A701_SAO PAULO - MIRANTE_01-01-2024_A_31-12-2024.CSV', sep=';', encoding='latin-1')\n",
    "df.head()"
   ]
  },
  {
   "cell_type": "code",
   "execution_count": null,
   "id": "7ad1de0e",
   "metadata": {},
   "outputs": [],
   "source": [
    "#%%\n",
    "colunas = [\n",
    "       'Data', \n",
    "       'Hora UTC', \n",
    "       'TEMPERATURA DO AR - BULBO SECO, HORARIA (°C)',\n",
    "       'UMIDADE RELATIVA DO AR, HORARIA (%)',\n",
    "       'TEMPERATURA MÍNIMA NA HORA ANT. (AUT) (°C)'\n",
    "]\n",
    "df = df[colunas]\n",
    "\n",
    "df['DIA'] = df['Data'].str[8:]\n",
    "df['MES'] = df['Data'].str[5:-3]\n",
    "df['HORA'] = df['Hora UTC'].str[:-6]\n",
    "df = df.drop(['Data','Hora UTC'], axis=1)"
   ]
  },
  {
   "cell_type": "code",
   "execution_count": null,
   "id": "06e5bb22",
   "metadata": {},
   "outputs": [],
   "source": [
    "df['TEMPERATURA'] = df['TEMPERATURA DO AR - BULBO SECO, HORARIA (°C)'].str.replace(',', '.').astype(float)\n",
    "df['TEMPERATURA_MINIMA_HORA_ANTERIOR'] = df['TEMPERATURA MÍNIMA NA HORA ANT. (AUT) (°C)'].str.replace(',', '.').astype(float)\n",
    "df['UMIDADE'] = df['UMIDADE RELATIVA DO AR, HORARIA (%)']"
   ]
  },
  {
   "cell_type": "code",
   "execution_count": null,
   "id": "96316544",
   "metadata": {},
   "outputs": [],
   "source": [
    "df['DIA'] = df['DIA'].str.replace(',', '.').astype(float).astype(int)\n",
    "df['MES'] = df['MES'].str.replace(',', '.').astype(float).astype(int)\n",
    "df['HORA'] = df['HORA'].str.replace(',', '.').astype(float).astype(int)\n"
   ]
  },
  {
   "cell_type": "code",
   "execution_count": null,
   "id": "4153e581",
   "metadata": {},
   "outputs": [],
   "source": [
    "df = df.drop(columns=[\n",
    "    'TEMPERATURA DO AR - BULBO SECO, HORARIA (°C)',\n",
    "    'TEMPERATURA MÍNIMA NA HORA ANT. (AUT) (°C)',\n",
    "    'UMIDADE RELATIVA DO AR, HORARIA (%)'], axis=1)\n",
    "df = df.dropna()"
   ]
  },
  {
   "cell_type": "code",
   "execution_count": null,
   "id": "8a5123a0",
   "metadata": {},
   "outputs": [],
   "source": [
    "df['PRIMAVERA'] = (df['MES'].isin([9, 10, 11])).astype(int)\n",
    "df['VERAO'] = (df['MES'].isin([12, 1, 2])).astype(int)\n",
    "df['OUTONO'] = (df['MES'].isin([3, 4, 5])).astype(int)\n",
    "df['INVERNO'] = (df['MES'].isin([6, 7, 8])).astype(int)\n"
   ]
  },
  {
   "cell_type": "code",
   "execution_count": null,
   "id": "e694a786",
   "metadata": {},
   "outputs": [],
   "source": [
    "df['DIURNO'] = np.where(df['HORA'].between(6, 18), 1, 0)\n",
    "df['NOTURNO'] = np.where((df['HORA'] >= 19) | (df['HORA'] <= 5), 1, 0)"
   ]
  },
  {
   "cell_type": "code",
   "execution_count": null,
   "id": "34b1ed11",
   "metadata": {},
   "outputs": [],
   "source": [
    "df.head()"
   ]
  },
  {
   "cell_type": "code",
   "execution_count": null,
   "id": "b0014a38",
   "metadata": {},
   "outputs": [],
   "source": [
    "y = df['TEMPERATURA']\n",
    "X = df[['UMIDADE','HORA','PRIMAVERA','VERAO','OUTONO','INVERNO','DIURNO']]\n",
    "\n",
    "X_train, X_test, y_train, y_test = train_test_split(X, y, test_size=0.2, random_state=42, shuffle=False)\n",
    "\n",
    "model = LinearRegression()\n",
    "model.fit(X_train, y_train)\n",
    "y_pred = model.predict(X)\n",
    "\n",
    "mse = mean_squared_error(y, y_pred)\n",
    "rmse = np.sqrt(mse)\n",
    "mae = mean_absolute_error(y, y_pred)\n",
    "r2 = r2_score(y, y_pred)\n",
    "\n",
    "print(f\"\\n=== RESULTADOS DO MODELO ===\")\n",
    "print(f\"Coeficientes: {model.coef_}\")\n",
    "print(f\"Intercepto: {model.intercept_:.6f}\")\n",
    "print(f\"R²: {r2:.2f}\")\n",
    "print(f\"MSE: {mse:.2f}\")\n",
    "print(f\"RMSE: {rmse:.2f}\")\n",
    "print(f\"MAE: {mae:.2f}\")\n",
    "\n",
    "#precisão, acuracia, R², "
   ]
  }
 ],
 "metadata": {
  "kernelspec": {
   "display_name": "venv",
   "language": "python",
   "name": "python3"
  },
  "language_info": {
   "codemirror_mode": {
    "name": "ipython",
    "version": 3
   },
   "file_extension": ".py",
   "mimetype": "text/x-python",
   "name": "python",
   "nbconvert_exporter": "python",
   "pygments_lexer": "ipython3",
   "version": "3.13.5"
  }
 },
 "nbformat": 4,
 "nbformat_minor": 5
}
